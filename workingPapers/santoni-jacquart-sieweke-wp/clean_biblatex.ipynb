{
 "cells": [
  {
   "cell_type": "markdown",
   "id": "997df601-2b64-486f-b50d-4fd40cb92ccd",
   "metadata": {},
   "source": [
    "# Clean BibLaTeX entries for the biblio & post-processing"
   ]
  },
  {
   "cell_type": "markdown",
   "id": "625ceb89-781d-4772-a344-3ddbbd02dcc3",
   "metadata": {},
   "source": [
    "## Load function to clean and export Bib-$\\TeX$ files exported from reference managers"
   ]
  },
  {
   "cell_type": "code",
   "execution_count": 3,
   "id": "a2430832-11db-45cf-a4a8-263fc257b753",
   "metadata": {},
   "outputs": [],
   "source": [
    "from companionCode.handleBibs import clean_bib"
   ]
  },
  {
   "cell_type": "markdown",
   "id": "12084393-55b6-4372-b929-f05b3b9611ef",
   "metadata": {},
   "source": [
    "## Deploy function"
   ]
  },
  {
   "cell_type": "code",
   "execution_count": 4,
   "id": "770570ad-e187-44a3-817b-621a83bd0657",
   "metadata": {},
   "outputs": [],
   "source": [
    "# file with BibLaTeX items to source\n",
    "in_f = 'review/sampled_studies.bib'\n",
    "# destnation file\n",
    "out_f = 'manuscript/references/sampled_studies.bib'\n",
    "# common words\n",
    "common_words = [' A ', ' An ', ' And ', ' Of ', ' The ', ' In ', \n",
    "                ' On ', ' From ', ' Over ', ' To ',  ' That ',\n",
    "                ' Which ', ' For ', ' With ', ' Only ', ' Among ',\n",
    "                ' By ', ' As ', ' Whether ', ' Or ', ' At ', \n",
    "                ' Versus ', ' -To- ', 'Title = ']\n",
    "# run function\n",
    "clean_bib(in_f=in_f, out_f=out_f, common_words=common_words)"
   ]
  },
  {
   "cell_type": "code",
   "execution_count": null,
   "id": "89ecc4a1-da87-437c-a022-14e8178f0e51",
   "metadata": {},
   "outputs": [],
   "source": []
  }
 ],
 "metadata": {
  "kernelspec": {
   "display_name": "Python 3",
   "language": "python",
   "name": "python3"
  },
  "language_info": {
   "codemirror_mode": {
    "name": "ipython",
    "version": 3
   },
   "file_extension": ".py",
   "mimetype": "text/x-python",
   "name": "python",
   "nbconvert_exporter": "python",
   "pygments_lexer": "ipython3",
   "version": "3.9.5"
  }
 },
 "nbformat": 4,
 "nbformat_minor": 5
}
