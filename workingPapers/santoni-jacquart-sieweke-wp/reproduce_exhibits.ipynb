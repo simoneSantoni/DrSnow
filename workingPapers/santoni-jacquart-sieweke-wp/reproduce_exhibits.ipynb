{
 "cells": [
  {
   "cell_type": "markdown",
   "metadata": {},
   "source": [
    "# 'Natural Experiments in Management Research'\n",
    "\n",
    "__Author__: masked\n",
    "\n",
    "__Synopsis__: this Jupyter notebook reproduces the set of exhibits\n",
    "              reported in the 2023 JoM review issue proposal\n",
    "              # __!! report number !!__\n",
    "\n",
    "__Updated__: June 24, 2021"
   ]
  },
  {
   "cell_type": "markdown",
   "metadata": {},
   "source": [
    "## Load functions"
   ]
  },
  {
   "cell_type": "code",
   "execution_count": 56,
   "metadata": {},
   "outputs": [],
   "source": [
    "# utilities\n",
    "from pprint import pprint\n",
    "# standard stuff\n",
    "import pandas as pd\n",
    "# a user defined lollipop chart\n",
    "from companionCode.charts import lollipop\n",
    "# to parse BibTeX stuff\n",
    "from companionCode.handleBibs import df_from_bib"
   ]
  },
  {
   "cell_type": "markdown",
   "metadata": {},
   "source": [
    "## Sampling"
   ]
  },
  {
   "cell_type": "code",
   "execution_count": 57,
   "metadata": {},
   "outputs": [],
   "source": [
    "# TODO: export separate BibTeX files from the individual folders"
   ]
  },
  {
   "cell_type": "markdown",
   "metadata": {},
   "source": [
    "## Sample descriptives"
   ]
  },
  {
   "cell_type": "code",
   "execution_count": 63,
   "metadata": {},
   "outputs": [],
   "source": [
    "# load data\n",
    "in_f = \"manuscript/references/sampled_studies.bib\"\n",
    "df = df_from_bib(in_f)"
   ]
  },
  {
   "cell_type": "markdown",
   "metadata": {},
   "source": [
    "### Distribution of studies over time"
   ]
  },
  {
   "cell_type": "code",
   "execution_count": 64,
   "metadata": {},
   "outputs": [
    {
     "data": {
      "image/png": "[encoded data removed]",
      "text/plain": [
       "<Figure size 432x288 with 1 Axes>"
      ]
     },
     "metadata": {
      "needs_background": "light"
     },
     "output_type": "display_data"
    }
   ],
   "source": [
    "lollipop(\n",
    "    df_=df, x_label=\"Publication year\", y_label=\"Counts of studies\", grouping_var=\"year\"\n",
    ")"
   ]
  },
  {
   "cell_type": "code",
   "execution_count": 65,
   "metadata": {},
   "outputs": [
    {
     "data": {
      "text/plain": [
       "year\n",
       "2001     1\n",
       "2002     1\n",
       "2003     3\n",
       "2004     2\n",
       "2005     4\n",
       "2006     6\n",
       "2007     3\n",
       "2008     3\n",
       "2009    10\n",
       "2010     4\n",
       "2011     7\n",
       "2012     8\n",
       "2013     5\n",
       "2014    13\n",
       "2015    11\n",
       "2016    16\n",
       "2017    25\n",
       "2018    32\n",
       "2019    35\n",
       "2020    29\n",
       "2021    13\n",
       "2022    15\n",
       "dtype: int64"
      ]
     },
     "execution_count": 65,
     "metadata": {},
     "output_type": "execute_result"
    }
   ],
   "source": [
    "df.groupby('year').size()"
   ]
  },
  {
   "cell_type": "markdown",
   "metadata": {},
   "source": [
    "### Distribution of studies over time and journals"
   ]
  },
  {
   "cell_type": "code",
   "execution_count": 66,
   "metadata": {},
   "outputs": [
    {
     "name": "stdout",
     "output_type": "stream",
     "text": [
      "year                                   2001  2002  2003  2004  2005  2006  \\\n",
      "journal                                                                     \n",
      "Academy of Management Journal             0     0     0     0     1     0   \n",
      "Administrative Science Quarterly          0     0     0     0     0     0   \n",
      "Entrepreneurship: Theory and Practice     0     0     0     0     0     0   \n",
      "Journal of Business Ethics                0     0     0     1     0     0   \n",
      "Journal of Business Venturing             0     0     0     0     0     0   \n",
      "Journal of Management                     0     0     0     0     0     0   \n",
      "Journal of Management Studies             0     0     0     0     1     0   \n",
      "Leadership Quarterly                      0     0     0     0     1     0   \n",
      "Management Science                        1     1     1     0     0     2   \n",
      "Organization Science                      0     0     0     1     0     3   \n",
      "Research Policy                           0     0     0     0     0     0   \n",
      "Strategic Entrepreneurship Journal        0     0     0     0     0     0   \n",
      "Strategic Management Journal              0     0     2     0     1     1   \n",
      "\n",
      "year                                   2007  2008  2009  2010  ...  2013  \\\n",
      "journal                                                        ...         \n",
      "Academy of Management Journal             0     1     0     0  ...     0   \n",
      "Administrative Science Quarterly          0     0     1     0  ...     0   \n",
      "Entrepreneurship: Theory and Practice     0     0     0     2  ...     0   \n",
      "Journal of Business Ethics                0     0     0     0  ...     0   \n",
      "Journal of Business Venturing             1     0     0     0  ...     1   \n",
      "Journal of Management                     0     0     0     0  ...     0   \n",
      "Journal of Management Studies             0     0     0     0  ...     0   \n",
      "Leadership Quarterly                      0     0     0     0  ...     0   \n",
      "Management Science                        1     2     3     1  ...     1   \n",
      "Organization Science                      0     0     0     0  ...     2   \n",
      "Research Policy                           0     0     1     0  ...     1   \n",
      "Strategic Entrepreneurship Journal        0     0     0     0  ...     0   \n",
      "Strategic Management Journal              1     0     5     1  ...     0   \n",
      "\n",
      "year                                   2014  2015  2016  2017  2018  2019  \\\n",
      "journal                                                                     \n",
      "Academy of Management Journal             1     0     0     0     2     0   \n",
      "Administrative Science Quarterly          1     1     0     0     0     1   \n",
      "Entrepreneurship: Theory and Practice     0     0     1     0     0     0   \n",
      "Journal of Business Ethics                0     2     2     2     5     2   \n",
      "Journal of Business Venturing             0     0     1     0     0     1   \n",
      "Journal of Management                     0     0     0     0     0     2   \n",
      "Journal of Management Studies             0     0     0     1     2     1   \n",
      "Leadership Quarterly                      0     0     0     0     0     1   \n",
      "Management Science                        4     3    10     9    12    13   \n",
      "Organization Science                      3     0     1     2     1     3   \n",
      "Research Policy                           1     2     0     2     4     3   \n",
      "Strategic Entrepreneurship Journal        0     0     0     0     0     0   \n",
      "Strategic Management Journal              3     3     1     9     6     8   \n",
      "\n",
      "year                                   2020  2021  2022  \n",
      "journal                                                  \n",
      "Academy of Management Journal             0     0     0  \n",
      "Administrative Science Quarterly          0     1     0  \n",
      "Entrepreneurship: Theory and Practice     1     0     0  \n",
      "Journal of Business Ethics                3     1     0  \n",
      "Journal of Business Venturing             1     3     0  \n",
      "Journal of Management                     0     0     0  \n",
      "Journal of Management Studies             0     0     0  \n",
      "Leadership Quarterly                      0     0     0  \n",
      "Management Science                       14     2    11  \n",
      "Organization Science                      2     0     2  \n",
      "Research Policy                           4     3     0  \n",
      "Strategic Entrepreneurship Journal        2     1     0  \n",
      "Strategic Management Journal              2     2     2  \n",
      "\n",
      "[13 rows x 22 columns]\n"
     ]
    }
   ],
   "source": [
    "tw = pd.crosstab(df['journal'], df['year'])\n",
    "pprint(tw)"
   ]
  },
  {
   "cell_type": "code",
   "execution_count": 67,
   "metadata": {},
   "outputs": [],
   "source": [
    "out_f = 'manuscript/exhibits/articles_over_time_and_journals.txt'\n",
    "tw.to_latex(out_f)"
   ]
  },
  {
   "cell_type": "markdown",
   "metadata": {},
   "source": [
    "## Topic modeling of abstracts"
   ]
  },
  {
   "cell_type": "code",
   "execution_count": null,
   "metadata": {},
   "outputs": [],
   "source": []
  },
  {
   "cell_type": "markdown",
   "metadata": {},
   "source": [
    "## Semantic analysis"
   ]
  },
  {
   "cell_type": "code",
   "execution_count": null,
   "metadata": {},
   "outputs": [],
   "source": []
  }
 ],
 "metadata": {
  "kernelspec": {
   "display_name": "Python 3",
   "language": "python",
   "name": "python3"
  },
  "language_info": {
   "codemirror_mode": {
    "name": "ipython",
    "version": 3
   },
   "file_extension": ".py",
   "mimetype": "text/x-python",
   "name": "python",
   "nbconvert_exporter": "python",
   "pygments_lexer": "ipython3",
   "version": "3.8.10"
  }
 },
 "nbformat": 4,
 "nbformat_minor": 4
}
