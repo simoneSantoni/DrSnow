{
 "cells": [
  {
   "cell_type": "markdown",
   "metadata": {},
   "source": [
    "# 'Natural Experiments in Management Research'\n",
    "\n",
    "__Author__: masked\n",
    "\n",
    "__Synopsis__: this Jupyter notebook reproduces the set of exhibits\n",
    "              reported in the 2023 JoM review issue proposal\n",
    "              # __!! report number !!__\n",
    "\n",
    "__Updated__: June 24, 2021"
   ]
  },
  {
   "cell_type": "markdown",
   "metadata": {},
   "source": [
    "## Load functions"
   ]
  },
  {
   "cell_type": "code",
   "execution_count": 1,
   "metadata": {},
   "outputs": [],
   "source": [
    "# to parse BibTeX stuff\n",
    "from companionCode.handleBibs import df_from_bib "
   ]
  },
  {
   "cell_type": "markdown",
   "metadata": {},
   "source": [
    "## Sampling"
   ]
  },
  {
   "cell_type": "code",
   "execution_count": 2,
   "metadata": {},
   "outputs": [],
   "source": [
    "#TODO: export separate BibTeX files from the individual folders "
   ]
  },
  {
   "cell_type": "markdown",
   "metadata": {},
   "source": [
    "## Sample descriptives"
   ]
  },
  {
   "cell_type": "code",
   "execution_count": 3,
   "metadata": {},
   "outputs": [],
   "source": [
    "# load data\n",
    "in_f = 'manuscript/references/sampled_studie.bib'\n",
    "df = df_from_bib(in_f)"
   ]
  },
  {
   "cell_type": "markdown",
   "metadata": {},
   "source": [
    "### Distribution of studies over time"
   ]
  },
  {
   "cell_type": "code",
   "execution_count": 74,
   "metadata": {},
   "outputs": [
    {
     "data": {
      "image/png": "[encoded data removed]",
      "text/plain": [
       "<Figure size 432x288 with 1 Axes>"
      ]
     },
     "metadata": {
      "needs_background": "light"
     },
     "output_type": "display_data"
    }
   ],
   "source": [
    "import numpy as np\n",
    "import matplotlib.pyplot as plt\n",
    "data =  df.groupby('year').size()\n",
    "fig, ax = plt.subplots(1, figsize=(6,4))\n",
    "for key in data.keys():\n",
    "    plt.plot([key, key], [-1, data[key]], color='k', marker='', lw=1)\n",
    "    if key < 2021:\n",
    "        plt.scatter(key, data[key], color='k')\n",
    "    else:\n",
    "        plt.scatter(key, data[key], facecolor='w', edgecolor='k')\n",
    "# labels\n",
    "ax.set_xlabel('Publication Year')\n",
    "ax.set_ylabel('Count of articles')\n",
    "# ticks\n",
    "min_x, max_x = np.min(data.keys()), np.max(data.keys())\n",
    "xticks = np.arange(min_x, max_x + 1, 1)\n",
    "xtick_labels = []\n",
    "for i in xticks:\n",
    "    if (i % 2 == 0) & (i < max_x):\n",
    "        xtick_labels.append('{}'.format(i))\n",
    "    elif i == max_x:\n",
    "        xtick_labels.append('In press')\n",
    "    else:\n",
    "        xtick_labels.append('')\n",
    "ax.set_xticks(xticks)\n",
    "ax.set_xticklabels(xtick_labels, rotation='vertical')\n",
    "# hide the right and top spines\n",
    "ax.spines['right'].set_visible(False)\n",
    "ax.spines['top'].set_visible(False)\n",
    "ax.spines['bottom'].set_visible(False)\n",
    "ax.spines['left'].set_visible(False)\n",
    "ax.yaxis.set_ticks_position('left')\n",
    "ax.xaxis.set_ticks_position('bottom')\n",
    "# save plot\n",
    "plt.savefig(out_f,\n",
    "            transparent=True,\n",
    "            bbox_inches='tight',\n",
    "            pad_inches=0)\n",
    "# show plot\n",
    "plt.show()"
   ]
  },
  {
   "cell_type": "code",
   "execution_count": 52,
   "metadata": {},
   "outputs": [],
   "source": [
    "xtick_labels = []\n",
    "for i in xticks:\n",
    "    if i % 2 == 0:\n",
    "        xtick_labels.append(str(i))\n",
    "    else:\n",
    "        xtick_labels.append('')"
   ]
  },
  {
   "cell_type": "code",
   "execution_count": 58,
   "metadata": {},
   "outputs": [
    {
     "data": {
      "text/plain": [
       "['',\n",
       " '2002',\n",
       " '',\n",
       " '2004',\n",
       " '',\n",
       " '2006',\n",
       " '',\n",
       " '2008',\n",
       " '',\n",
       " '2010',\n",
       " '',\n",
       " '2012',\n",
       " '',\n",
       " '2014',\n",
       " '',\n",
       " '2016',\n",
       " '',\n",
       " '2018',\n",
       " '',\n",
       " '2020',\n",
       " '',\n",
       " 'In press']"
      ]
     },
     "execution_count": 58,
     "metadata": {},
     "output_type": "execute_result"
    }
   ],
   "source": [
    "xtick_labels"
   ]
  },
  {
   "cell_type": "code",
   "execution_count": 42,
   "metadata": {},
   "outputs": [
    {
     "data": {
      "text/plain": [
       "2022"
      ]
     },
     "execution_count": 42,
     "metadata": {},
     "output_type": "execute_result"
    }
   ],
   "source": [
    "np.max(data.keys())"
   ]
  },
  {
   "cell_type": "markdown",
   "metadata": {},
   "source": [
    "### Distribution of studies over time and journals"
   ]
  },
  {
   "cell_type": "code",
   "execution_count": null,
   "metadata": {},
   "outputs": [],
   "source": []
  },
  {
   "cell_type": "code",
   "execution_count": 19,
   "metadata": {},
   "outputs": [
    {
     "data": {
      "text/html": [
       "<div>\n",
       "<style scoped>\n",
       "    .dataframe tbody tr th:only-of-type {\n",
       "        vertical-align: middle;\n",
       "    }\n",
       "\n",
       "    .dataframe tbody tr th {\n",
       "        vertical-align: top;\n",
       "    }\n",
       "\n",
       "    .dataframe thead th {\n",
       "        text-align: right;\n",
       "    }\n",
       "</style>\n",
       "<table border=\"1\" class=\"dataframe\">\n",
       "  <thead>\n",
       "    <tr style=\"text-align: right;\">\n",
       "      <th></th>\n",
       "      <th>key</th>\n",
       "      <th>journal</th>\n",
       "      <th>year</th>\n",
       "      <th>author</th>\n",
       "      <th>title</th>\n",
       "    </tr>\n",
       "  </thead>\n",
       "  <tbody>\n",
       "    <tr>\n",
       "      <th>0</th>\n",
       "      <td>knott2003</td>\n",
       "      <td>Management Science</td>\n",
       "      <td>2001</td>\n",
       "      <td>Knott, Anne Marie</td>\n",
       "      <td>{The Dynamic Value of Hierarchy}</td>\n",
       "    </tr>\n",
       "    <tr>\n",
       "      <th>0</th>\n",
       "      <td>lilien2002</td>\n",
       "      <td>Management Science</td>\n",
       "      <td>2002</td>\n",
       "      <td>Lilien, Gary L. and Morrison, Pamela D. and Se...</td>\n",
       "      <td>{Performance Assessment of the Lead User Idea-...</td>\n",
       "    </tr>\n",
       "    <tr>\n",
       "      <th>0</th>\n",
       "      <td>hann2003</td>\n",
       "      <td>Management Science</td>\n",
       "      <td>2003</td>\n",
       "      <td>Hann, Il Horn and Terwiesch, Christian</td>\n",
       "      <td>{Measuring the Frictional Costs of Online Tran...</td>\n",
       "    </tr>\n",
       "    <tr>\n",
       "      <th>0</th>\n",
       "      <td>Hitt2004</td>\n",
       "      <td>Organization Science</td>\n",
       "      <td>2004</td>\n",
       "      <td>Hitt, Michael A. and Ahlstrom, David and Dacin...</td>\n",
       "      <td>{The Institutional Effects on Strategic Allian...</td>\n",
       "    </tr>\n",
       "    <tr>\n",
       "      <th>0</th>\n",
       "      <td>West2004</td>\n",
       "      <td>Journal of Business Ethics</td>\n",
       "      <td>2004</td>\n",
       "      <td>West, Tim and Ravenscroft, Sue Pickard and Shr...</td>\n",
       "      <td>{Cheating and Moral Judgment in the College Cl...</td>\n",
       "    </tr>\n",
       "  </tbody>\n",
       "</table>\n",
       "</div>"
      ],
      "text/plain": [
       "          key                     journal  year  \\\n",
       "0   knott2003          Management Science  2001   \n",
       "0  lilien2002          Management Science  2002   \n",
       "0    hann2003          Management Science  2003   \n",
       "0    Hitt2004        Organization Science  2004   \n",
       "0    West2004  Journal of Business Ethics  2004   \n",
       "\n",
       "                                              author  \\\n",
       "0                                  Knott, Anne Marie   \n",
       "0  Lilien, Gary L. and Morrison, Pamela D. and Se...   \n",
       "0             Hann, Il Horn and Terwiesch, Christian   \n",
       "0  Hitt, Michael A. and Ahlstrom, David and Dacin...   \n",
       "0  West, Tim and Ravenscroft, Sue Pickard and Shr...   \n",
       "\n",
       "                                               title  \n",
       "0                   {The Dynamic Value of Hierarchy}  \n",
       "0  {Performance Assessment of the Lead User Idea-...  \n",
       "0  {Measuring the Frictional Costs of Online Tran...  \n",
       "0  {The Institutional Effects on Strategic Allian...  \n",
       "0  {Cheating and Moral Judgment in the College Cl...  "
      ]
     },
     "execution_count": 19,
     "metadata": {},
     "output_type": "execute_result"
    }
   ],
   "source": [
    "df.head()"
   ]
  },
  {
   "cell_type": "code",
   "execution_count": 20,
   "metadata": {},
   "outputs": [
    {
     "name": "stdout",
     "output_type": "stream",
     "text": [
      "<class 'pandas.core.frame.DataFrame'>\n",
      "Int64Index: 201 entries, 0 to 0\n",
      "Data columns (total 5 columns):\n",
      " #   Column   Non-Null Count  Dtype \n",
      "---  ------   --------------  ----- \n",
      " 0   key      201 non-null    object\n",
      " 1   journal  201 non-null    object\n",
      " 2   year     201 non-null    int64 \n",
      " 3   author   201 non-null    object\n",
      " 4   title    201 non-null    object\n",
      "dtypes: int64(1), object(4)\n",
      "memory usage: 9.4+ KB\n"
     ]
    }
   ],
   "source": [
    "df.info()"
   ]
  },
  {
   "cell_type": "code",
   "execution_count": 8,
   "metadata": {},
   "outputs": [
    {
     "data": {
      "text/html": [
       "<div>\n",
       "<style scoped>\n",
       "    .dataframe tbody tr th:only-of-type {\n",
       "        vertical-align: middle;\n",
       "    }\n",
       "\n",
       "    .dataframe tbody tr th {\n",
       "        vertical-align: top;\n",
       "    }\n",
       "\n",
       "    .dataframe thead th {\n",
       "        text-align: right;\n",
       "    }\n",
       "</style>\n",
       "<table border=\"1\" class=\"dataframe\">\n",
       "  <thead>\n",
       "    <tr style=\"text-align: right;\">\n",
       "      <th></th>\n",
       "      <th>key</th>\n",
       "      <th>journal</th>\n",
       "      <th>year</th>\n",
       "      <th>author</th>\n",
       "      <th>title</th>\n",
       "    </tr>\n",
       "  </thead>\n",
       "  <tbody>\n",
       "    <tr>\n",
       "      <th>0</th>\n",
       "      <td>Hitt2004</td>\n",
       "      <td>NaN</td>\n",
       "      <td>2004</td>\n",
       "      <td>Hitt, Michael A. and Ahlstrom, David and Dacin...</td>\n",
       "      <td>Organization Science</td>\n",
       "    </tr>\n",
       "    <tr>\n",
       "      <th>0</th>\n",
       "      <td>West2004</td>\n",
       "      <td>NaN</td>\n",
       "      <td>2004</td>\n",
       "      <td>West, Tim and Ravenscroft, Sue Pickard and Shr...</td>\n",
       "      <td>Journal of Business Ethics</td>\n",
       "    </tr>\n",
       "    <tr>\n",
       "      <th>0</th>\n",
       "      <td>Yiu2005</td>\n",
       "      <td>NaN</td>\n",
       "      <td>2005</td>\n",
       "      <td>Yiu, Daphne and Bruton, Garry D. and Lu, Yuan</td>\n",
       "      <td>Journal of Management Studies</td>\n",
       "    </tr>\n",
       "    <tr>\n",
       "      <th>0</th>\n",
       "      <td>Kalnins2006</td>\n",
       "      <td>NaN</td>\n",
       "      <td>2006</td>\n",
       "      <td>Kalnins, Arturs and Swaminathan, Anand and Mit...</td>\n",
       "      <td>Organization Science</td>\n",
       "    </tr>\n",
       "    <tr>\n",
       "      <th>0</th>\n",
       "      <td>Shi2018</td>\n",
       "      <td>NaN</td>\n",
       "      <td>2018</td>\n",
       "      <td>Shi, Wei and Connelly, Brian L. and Cirik, Kub...</td>\n",
       "      <td>Academy of Management Journal</td>\n",
       "    </tr>\n",
       "    <tr>\n",
       "      <th>0</th>\n",
       "      <td>Jia2019</td>\n",
       "      <td>NaN</td>\n",
       "      <td>2019</td>\n",
       "      <td>Jia, Nan and Huang, Kenneth G. and {Man Zhang}...</td>\n",
       "      <td>Academy of Management Journal</td>\n",
       "    </tr>\n",
       "  </tbody>\n",
       "</table>\n",
       "</div>"
      ],
      "text/plain": [
       "           key journal  year  \\\n",
       "0     Hitt2004     NaN  2004   \n",
       "0     West2004     NaN  2004   \n",
       "0      Yiu2005     NaN  2005   \n",
       "0  Kalnins2006     NaN  2006   \n",
       "0      Shi2018     NaN  2018   \n",
       "0      Jia2019     NaN  2019   \n",
       "\n",
       "                                              author  \\\n",
       "0  Hitt, Michael A. and Ahlstrom, David and Dacin...   \n",
       "0  West, Tim and Ravenscroft, Sue Pickard and Shr...   \n",
       "0      Yiu, Daphne and Bruton, Garry D. and Lu, Yuan   \n",
       "0  Kalnins, Arturs and Swaminathan, Anand and Mit...   \n",
       "0  Shi, Wei and Connelly, Brian L. and Cirik, Kub...   \n",
       "0  Jia, Nan and Huang, Kenneth G. and {Man Zhang}...   \n",
       "\n",
       "                           title  \n",
       "0           Organization Science  \n",
       "0     Journal of Business Ethics  \n",
       "0  Journal of Management Studies  \n",
       "0           Organization Science  \n",
       "0  Academy of Management Journal  \n",
       "0  Academy of Management Journal  "
      ]
     },
     "execution_count": 8,
     "metadata": {},
     "output_type": "execute_result"
    }
   ],
   "source": [
    "df.loc[df['journal'].isnull()]"
   ]
  },
  {
   "cell_type": "markdown",
   "metadata": {},
   "source": [
    "## Topic modeling of abstracts"
   ]
  },
  {
   "cell_type": "code",
   "execution_count": null,
   "metadata": {},
   "outputs": [],
   "source": []
  },
  {
   "cell_type": "markdown",
   "metadata": {},
   "source": [
    "## Semantic analysis"
   ]
  },
  {
   "cell_type": "code",
   "execution_count": null,
   "metadata": {},
   "outputs": [],
   "source": []
  }
 ],
 "metadata": {
  "kernelspec": {
   "display_name": "Python 3",
   "language": "python",
   "name": "python3"
  },
  "language_info": {
   "codemirror_mode": {
    "name": "ipython",
    "version": 3
   },
   "file_extension": ".py",
   "mimetype": "text/x-python",
   "name": "python",
   "nbconvert_exporter": "python",
   "pygments_lexer": "ipython3",
   "version": "3.8.10"
  }
 },
 "nbformat": 4,
 "nbformat_minor": 4
}
