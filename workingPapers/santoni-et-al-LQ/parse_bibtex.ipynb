{
 "cells": [
  {
   "cell_type": "markdown",
   "metadata": {},
   "source": [
    "# Clean Bib-TeX entries for the biblio & post-processing"
   ]
  },
  {
   "cell_type": "markdown",
   "metadata": {},
   "source": [
    "## Load function to clean and export BibTex files exported from reference managers"
   ]
  },
  {
   "cell_type": "code",
   "execution_count": 1,
   "metadata": {},
   "outputs": [],
   "source": [
    "from companionCode.wrangling.clean import filter_and_norm"
   ]
  },
  {
   "cell_type": "markdown",
   "metadata": {},
   "source": [
    "## Scopus 'exogenous shock' search's outcome"
   ]
  },
  {
   "cell_type": "code",
   "execution_count": 2,
   "metadata": {},
   "outputs": [],
   "source": [
    "# file with BibLaTeX items to source\n",
    "in_f = 'data/management_studies_on_ex_shocks.bib'\n",
    "# destnation file\n",
    "out_f = 'data/management_studies_on_ex_shocks_clean.bib'\n",
    "# common words\n",
    "common_words = [' A ', ' An ', ' And ', ' Of ', ' The ', ' In ', \n",
    "                ' On ', ' From ', ' Over ', ' To ',  ' That ',\n",
    "                ' Which ', ' For ', ' With ', ' Only ', ' Among ',\n",
    "                ' By ', ' As ', ' Whether ', ' Or ', ' At ', \n",
    "                ' Versus ', ' -To- ', 'Title = ']\n",
    "# run function\n",
    "filter_and_norm(in_f=in_f, out_f=out_f, common_words=common_words)"
   ]
  }
 ],
 "metadata": {
  "interpreter": {
   "hash": "f2757e7a83556c8d1e9a6508f79f186a9664441818ea26cf576bfceb196e2e32"
  },
  "kernelspec": {
   "display_name": "Python 3.9.7 64-bit ('tech_sci': conda)",
   "language": "python",
   "name": "python3"
  },
  "language_info": {
   "codemirror_mode": {
    "name": "ipython",
    "version": 3
   },
   "file_extension": ".py",
   "mimetype": "text/x-python",
   "name": "python",
   "nbconvert_exporter": "python",
   "pygments_lexer": "ipython3",
   "version": "3.9.7"
  },
  "orig_nbformat": 4
 },
 "nbformat": 4,
 "nbformat_minor": 2
}
