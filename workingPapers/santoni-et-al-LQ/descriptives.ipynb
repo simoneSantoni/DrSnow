{
 "cells": [
  {
   "cell_type": "markdown",
   "metadata": {},
   "source": [
    "## Load libraries"
   ]
  },
  {
   "cell_type": "code",
   "execution_count": 2,
   "metadata": {},
   "outputs": [],
   "source": [
    "import json\n",
    "import numpy as np\n",
    "from sklearn import preprocessing\n",
    "import pandas as pd\n",
    "import matplotlib.pyplot as plt\n",
    "from companionCode.wrangling.parse import df_from_bib\n",
    "from companionCode.visualization.categorical_plots import *\n",
    "from matplotlib_venn import venn2\n"
   ]
  },
  {
   "cell_type": "markdown",
   "metadata": {},
   "source": [
    "## Visualization options"
   ]
  },
  {
   "cell_type": "code",
   "execution_count": 3,
   "metadata": {},
   "outputs": [],
   "source": [
    "# custom colors\n",
    "base_c = [i / 255 for i in [153, 0, 0]]\n",
    "comp_c = [i / 255 for i in [25, 176, 192]]\n",
    "tri_1_c = [i / 255 for i in [25, 196, 49]]\n",
    "tri_2_c = [i / 255 for i in [49, 25, 196]]\n",
    "tet_1_c = [i / 255 for i in [87, 196, 25]]\n",
    "tet_2_c = [i / 255 for i in [25, 172, 196]]\n",
    "tet_3_c = [i / 255 for i in [135, 25, 196]]\n",
    "my_gray = [i/ 255 for i in [104, 104, 104]]\n",
    "# rendering option\n",
    "matplotlib.rcParams[\"text.usetex\"] = True\n",
    "matplotlib.rcParams[\"font.family\"] = \"serif\"\n",
    "matplotlib.rcParams[\"font.size\"] = \"11\"\n",
    "# alpha params\n",
    "alpha = [0.6]"
   ]
  },
  {
   "cell_type": "markdown",
   "metadata": {},
   "source": [
    "## Scopus search outcome and coding outcome"
   ]
  },
  {
   "cell_type": "markdown",
   "metadata": {},
   "source": [
    "### Read data"
   ]
  },
  {
   "cell_type": "code",
   "execution_count": 6,
   "metadata": {},
   "outputs": [],
   "source": [
    "# Scopus's search outcome\n",
    "df0 = df_from_bib(\"data/management_studies_on_ex_shocks_clean.bib\")\n",
    "# coded data\n",
    "df1 = pd.read_csv(\"data/coded_studies.csv\")\n",
    "# merge data\n",
    "df = pd.merge(df0, df1.loc[df1[\"sample\"] == True], on=\"key\", how=\"inner\")\n",
    "del df0, df1\n"
   ]
  },
  {
   "cell_type": "code",
   "execution_count": 7,
   "metadata": {},
   "outputs": [
    {
     "name": "stdout",
     "output_type": "stream",
     "text": [
      "<class 'pandas.core.frame.DataFrame'>\n",
      "Int64Index: 31 entries, 0 to 30\n",
      "Data columns (total 35 columns):\n",
      " #   Column                       Non-Null Count  Dtype \n",
      "---  ------                       --------------  ----- \n",
      " 0   key                          31 non-null     object\n",
      " 1   journal                      31 non-null     object\n",
      " 2   year                         31 non-null     int64 \n",
      " 3   author                       31 non-null     object\n",
      " 4   title                        31 non-null     object\n",
      " 5   sample                       31 non-null     bool  \n",
      " 6   event_description            31 non-null     object\n",
      " 7   event_relevance              31 non-null     object\n",
      " 8   event_class                  31 non-null     object\n",
      " 9   role_description             31 non-null     object\n",
      " 10  role_theory                  31 non-null     object\n",
      " 11  role_empirical               31 non-null     object\n",
      " 12  pre_treatmnet                31 non-null     object\n",
      " 13  control_group                31 non-null     object\n",
      " 14  valued_treatment             31 non-null     object\n",
      " 15  stats                        31 non-null     object\n",
      " 16  estimation_strategy          30 non-null     object\n",
      " 17  asif_info                    22 non-null     object\n",
      " 18  asif_incentives              20 non-null     object\n",
      " 19  asif_capacity                20 non-null     object\n",
      " 20  asif_strategic_intervention  16 non-null     object\n",
      " 21  rel_substantive              31 non-null     object\n",
      " 22  rel_empirical                31 non-null     object\n",
      " 23  rel_late                     30 non-null     object\n",
      " 24  rel_sutva                    29 non-null     object\n",
      " 25  cred_covariates              31 non-null     object\n",
      " 26  cred_matching                31 non-null     object\n",
      " 27  cred_sutva                   27 non-null     object\n",
      " 28  qual_asif                    28 non-null     object\n",
      " 29  qual_empirical_relevance     30 non-null     object\n",
      " 30  qual_substantive_relevance   30 non-null     object\n",
      " 31  quot_asif                    16 non-null     object\n",
      " 32  quot_empirical_relevance     24 non-null     object\n",
      " 33  quot_susbtantive_relevance   14 non-null     object\n",
      " 34  —— NOTES ——\tnotes            25 non-null     object\n",
      "dtypes: bool(1), int64(1), object(33)\n",
      "memory usage: 8.5+ KB\n"
     ]
    }
   ],
   "source": [
    "df.info()\n"
   ]
  },
  {
   "cell_type": "markdown",
   "metadata": {},
   "source": [
    "### Sample description"
   ]
  },
  {
   "cell_type": "markdown",
   "metadata": {},
   "source": [
    "#### Distribution of studies across journals"
   ]
  },
  {
   "cell_type": "code",
   "execution_count": 9,
   "metadata": {},
   "outputs": [
    {
     "name": "stdout",
     "output_type": "stream",
     "text": [
      "\n",
      "                  PGF is a non-GUI backend -- nothing to display here!\n",
      "                  \n",
      "                  To display the chart here, set 'use_tex' = False \n",
      "                  \n"
     ]
    }
   ],
   "source": [
    "chart = BarChart(name_=\"studies_across_journals\")\n",
    "chart.add_data(df_=df, var_=\"journal\")\n",
    "chart.plot(\n",
    "    fig_size=(3.75, 2.5),\n",
    "    use_tex=True,\n",
    "    edge_color=my_gray,\n",
    "    face_color=my_gray,\n",
    "    tick_min=0,\n",
    "    tick_step=2,\n",
    "    axis_label=\"Counts of studies\",\n",
    "    horizontal_=True,\n",
    ")\n"
   ]
  },
  {
   "cell_type": "markdown",
   "metadata": {},
   "source": [
    "### Type of naturally-occurring event"
   ]
  },
  {
   "cell_type": "code",
   "execution_count": 10,
   "metadata": {},
   "outputs": [
    {
     "name": "stdout",
     "output_type": "stream",
     "text": [
      "\n",
      "                  PGF is a non-GUI backend -- nothing to display here!\n",
      "                  \n",
      "                  To display the chart here, set 'use_tex' = False \n",
      "                  \n"
     ]
    }
   ],
   "source": [
    "chart = BarChart(name_=\"classes_of_events\")\n",
    "chart.add_data(df_=df, var_=\"event_class\")\n",
    "chart.plot(\n",
    "    fig_size=(3.75, 3.5),\n",
    "    use_tex=True,\n",
    "    face_color=my_gray,\n",
    "    edge_color=my_gray,\n",
    "    tick_min=0,\n",
    "    tick_step=2,\n",
    "    axis_label=\"Counts of studies\",\n",
    "    horizontal_=True,\n",
    ")\n"
   ]
  },
  {
   "cell_type": "markdown",
   "metadata": {},
   "source": [
    "### Event-research question mapping"
   ]
  },
  {
   "cell_type": "code",
   "execution_count": 11,
   "metadata": {},
   "outputs": [],
   "source": [
    "# get cross tab\n",
    "cross_tab = pd.crosstab(df[\"role_empirical\"], df[\"role_theory\"])\n",
    "# create figure\n",
    "fig = plt.figure(figsize=(2, 2))\n",
    "ax = fig.add_subplot(1, 1, 1)\n",
    "venn2(\n",
    "    subsets=(cross_tab[0][1], cross_tab[1][0], cross_tab[1][1]),\n",
    "    set_labels=(\"Empirical role\", \"Substantive role\"),\n",
    "    set_colors=(my_gray, base_c),\n",
    "    alpha=0.7,\n",
    ")\n",
    "plt.savefig(\"manuscript/exhibits/event_roles.pgf\", bbox_inches=\"tight\", pad_inches=0)\n"
   ]
  },
  {
   "cell_type": "markdown",
   "metadata": {},
   "source": [
    "### Potential outcome framework"
   ]
  },
  {
   "cell_type": "code",
   "execution_count": 12,
   "metadata": {},
   "outputs": [],
   "source": [
    "# data\n",
    "# --+ event plays empirical role\n",
    "gr = df.loc[(df[\"role_empirical\"] == True) & (df[\"role_theory\"] == False)].groupby(\n",
    "    [\"control_group\"], as_index=False\n",
    ")\n",
    "c0 = pd.DataFrame(gr.size())\n",
    "# --+ event plays substantive role\n",
    "gr = df.loc[(df[\"role_empirical\"] == False) & (df[\"role_theory\"] == True)].groupby(\n",
    "    [\"control_group\"], as_index=False\n",
    ")\n",
    "c1 = pd.DataFrame(gr.size())\n",
    "# --+ event plays both roles\n",
    "gr = df.loc[(df[\"role_empirical\"] == True) & (df[\"role_theory\"] == True)].groupby(\n",
    "    [\"control_group\"], as_index=False\n",
    ")\n",
    "c2 = pd.DataFrame(gr.size())\n"
   ]
  },
  {
   "cell_type": "code",
   "execution_count": 17,
   "metadata": {},
   "outputs": [],
   "source": [
    "# create stacked bar chart\n",
    "fig = plt.figure(figsize=(2.5, 0.9))\n",
    "ax = fig.add_subplot(1, 1, 1)\n",
    "ax.barh(\n",
    "    c0.index,\n",
    "    c0[\"size\"],\n",
    "    height=0.25,\n",
    "    label=\"Empirical\",\n",
    "    color=my_gray\n",
    ")\n",
    "ax.barh(\n",
    "    c2.index,\n",
    "    c2[\"size\"],\n",
    "    left=c0[\"size\"],\n",
    "    height=0.25,\n",
    "    label=\"Empirical \\& substantive\",\n",
    "    color=my_gray,\n",
    "    alpha=0.7\n",
    ")\n",
    "ax.barh(\n",
    "    c1.index,\n",
    "    c1[\"size\"],\n",
    "    height=0.25,\n",
    "    left=c0[\"size\"] + c2[\"size\"],\n",
    "    label=\"Substantive\",\n",
    "    color=my_gray,\n",
    "    alpha=0.4\n",
    ")\n",
    "# labels and ticks\n",
    "ax.set_yticks([0, 1])\n",
    "ax.set_yticklabels([\"Design lacking a control group\", \"Design with a control group\"])\n",
    "ax.set_xlabel(\"Counts of studies\")\n",
    "# hide the right and top spines\n",
    "ax.spines[\"right\"].set_visible(False)\n",
    "ax.spines[\"top\"].set_visible(False)\n",
    "ax.spines[\"bottom\"].set_visible(False)\n",
    "ax.spines[\"left\"].set_visible(False)\n",
    "ax.yaxis.set_ticks_position(\"left\")\n",
    "ax.xaxis.set_ticks_position(\"bottom\")\n",
    "# legend\n",
    "ax.legend(loc=(1, 0), frameon=False)\n",
    "# tick labels' jsutification\n",
    "plt.setp(\n",
    "    ax.get_yticklabels(),\n",
    "    rotation=0,\n",
    "    ha=\"right\",\n",
    "    va=\"center\",\n",
    "    rotation_mode=\"anchor\",\n",
    ")\n",
    "# plot\n",
    "plt.savefig(\"manuscript/exhibits/potential_outcome.pgf\", bbox_inches=\"tight\", pad_inches=0)\n"
   ]
  },
  {
   "cell_type": "markdown",
   "metadata": {},
   "source": []
  },
  {
   "cell_type": "code",
   "execution_count": null,
   "metadata": {},
   "outputs": [],
   "source": []
  }
 ],
 "metadata": {
  "interpreter": {
   "hash": "1bd40af217d19b330311735bc860c42c9edd6123f80c4c74216ee563723197ec"
  },
  "kernelspec": {
   "display_name": "Python 3.8.12 64-bit ('nlp': conda)",
   "language": "python",
   "name": "python3"
  },
  "language_info": {
   "codemirror_mode": {
    "name": "ipython",
    "version": 3
   },
   "file_extension": ".py",
   "mimetype": "text/x-python",
   "name": "python",
   "nbconvert_exporter": "python",
   "pygments_lexer": "ipython3",
   "version": "3.8.10"
  },
  "orig_nbformat": 4
 },
 "nbformat": 4,
 "nbformat_minor": 2
}
