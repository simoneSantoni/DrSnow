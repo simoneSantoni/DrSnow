{
 "cells": [
  {
   "cell_type": "markdown",
   "metadata": {},
   "source": [
    "## Load libraries"
   ]
  },
  {
   "cell_type": "code",
   "execution_count": 33,
   "metadata": {},
   "outputs": [],
   "source": [
    "import json\n",
    "import numpy as np\n",
    "from sklearn import preprocessing\n",
    "import pandas as pd\n",
    "import matplotlib.pyplot as plt\n",
    "from companionCode.wrangling.parse import df_from_bib\n",
    "from companionCode.visualization.categorical_plots import *\n",
    "from matplotlib_venn import venn2, venn2_circles, venn3, venn3_circles\n",
    "from warnings import filterwarnings\n",
    "filterwarnings('ignore')"
   ]
  },
  {
   "cell_type": "markdown",
   "metadata": {},
   "source": [
    "## Visualization options"
   ]
  },
  {
   "cell_type": "code",
   "execution_count": 16,
   "metadata": {},
   "outputs": [],
   "source": [
    "# custom colors\n",
    "c1_ = [i / 255 for i in [227, 111, 71]]\n",
    "c2_ = [i / 255 for i in [1, 155, 250]]\n",
    "c3_ = [i / 255 for i in [63, 164, 77]]\n",
    "c4_ = [i / 255 for i in [195, 113, 211]]\n",
    "# rendering option\n",
    "matplotlib.rcParams[\"text.usetex\"] = True\n",
    "matplotlib.rcParams[\"font.family\"] = \"serif\"\n",
    "matplotlib.rcParams[\"font.size\"] = \"11\"\n",
    "# alpha params\n",
    "alpha = [0.6]"
   ]
  },
  {
   "cell_type": "markdown",
   "metadata": {},
   "source": [
    "## Scopus search outcome and coding outcome"
   ]
  },
  {
   "cell_type": "markdown",
   "metadata": {},
   "source": [
    "### Read data"
   ]
  },
  {
   "cell_type": "code",
   "execution_count": 17,
   "metadata": {},
   "outputs": [
    {
     "name": "stdout",
     "output_type": "stream",
     "text": [
      "Number of retrieved articles: 58\n",
      "Number of articles considered in the coding: 58\n",
      "Number of coded articles: 37\n"
     ]
    }
   ],
   "source": [
    "# Scopus's search outcome\n",
    "df0 = df_from_bib(\"data/management_studies_on_ex_shocks_clean.bib\")\n",
    "print(\"Number of retrieved articles: {}\".format(len(df0)))\n",
    "# coded data\n",
    "df1 = pd.read_csv(\"data/coded_studies.csv\")\n",
    "print(\"Number of articles considered in the coding: {}\".format(len(df1 )))\n",
    "# merge data\n",
    "df = pd.merge(df0, df1.loc[df1[\"sample\"] == True], on=\"key\", how=\"inner\")\n",
    "print(\"Number of coded articles: {}\".format(len(df)))\n",
    "# delete data\n",
    "del df0, df1\n"
   ]
  },
  {
   "cell_type": "markdown",
   "metadata": {},
   "source": [
    "### Sample description"
   ]
  },
  {
   "cell_type": "markdown",
   "metadata": {},
   "source": [
    "#### Distribution of studies across journals"
   ]
  },
  {
   "cell_type": "code",
   "execution_count": 18,
   "metadata": {},
   "outputs": [
    {
     "name": "stdout",
     "output_type": "stream",
     "text": [
      "\n",
      "                  PGF is a non-GUI backend -- nothing to display here!\n",
      "                  \n",
      "                  To display the chart here, set 'use_tex' = False \n",
      "                  \n"
     ]
    }
   ],
   "source": [
    "chart = BarChart(name_=\"manuscript/exhibits/studies_across_journals\")\n",
    "chart.add_data(df_=df, var_=\"journal\")\n",
    "chart.plot(\n",
    "    fig_size=(3.75, 2.5),\n",
    "    use_tex=True,\n",
    "    edge_color=\"white\",\n",
    "    face_color=\"gray\",\n",
    "    tick_min=0,\n",
    "    tick_step=2,\n",
    "    axis_label=\"Counts of studies\",\n",
    "    horizontal_=True,\n",
    ")\n"
   ]
  },
  {
   "cell_type": "markdown",
   "metadata": {},
   "source": [
    "### Type of naturally-occurring event"
   ]
  },
  {
   "cell_type": "code",
   "execution_count": 19,
   "metadata": {},
   "outputs": [
    {
     "name": "stdout",
     "output_type": "stream",
     "text": [
      "\n",
      "                  PGF is a non-GUI backend -- nothing to display here!\n",
      "                  \n",
      "                  To display the chart here, set 'use_tex' = False \n",
      "                  \n"
     ]
    }
   ],
   "source": [
    "chart = BarChart(name_=\"manuscript/exhibits/classes_of_events\")\n",
    "chart.add_data(df_=df, var_=\"event_class\")\n",
    "chart.plot(\n",
    "    fig_size=(3.75, 3.5),\n",
    "    use_tex=True,\n",
    "    face_color=\"gray\",\n",
    "    edge_color=\"white\",\n",
    "    tick_min=0,\n",
    "    tick_step=2,\n",
    "    axis_label=\"Counts of studies\",\n",
    "    horizontal_=True,\n",
    ")\n"
   ]
  },
  {
   "cell_type": "markdown",
   "metadata": {},
   "source": [
    "### Event-research question mapping"
   ]
  },
  {
   "cell_type": "code",
   "execution_count": 46,
   "metadata": {},
   "outputs": [],
   "source": [
    "# get cross tab\n",
    "pd.crosstab(df[\"role_empirical\"], df[\"role_theory\"])\n",
    "# get cross tab\n",
    "cross_tab = pd.crosstab(df[\"role_empirical\"], df[\"role_theory\"])\n",
    "# create figure\n",
    "fig = plt.figure(figsize=(2, 2))\n",
    "ax = fig.add_subplot(1, 1, 1)\n",
    "venn2(\n",
    "    subsets=(cross_tab.iloc[1, 0], cross_tab.iloc[0, 1], cross_tab.iloc[1, 1]),\n",
    "    set_labels=(\"Empirical role\", \"Substantive role\"),\n",
    "    set_colors=(c2_, c1_),\n",
    "    alpha=0.75,\n",
    ")\n",
    "plt.savefig(\"manuscript/exhibits/event_roles.pgf\", bbox_inches=\"tight\", pad_inches=0)\n"
   ]
  },
  {
   "cell_type": "markdown",
   "metadata": {},
   "source": [
    "### Potential outcome framework"
   ]
  },
  {
   "cell_type": "code",
   "execution_count": 50,
   "metadata": {},
   "outputs": [],
   "source": [
    "# get cross tab\n",
    "df_ = df.loc[df[\"control_group\"] == True]\n",
    "pd.crosstab(df_[\"role_empirical\"], df_[\"role_theory\"])\n",
    "# get cross tab\n",
    "cross_tab = pd.crosstab(df_[\"role_empirical\"], df_[\"role_theory\"])\n",
    "# create figure\n",
    "fig = plt.figure(figsize=(2, 2))\n",
    "ax = fig.add_subplot(1, 1, 1)\n",
    "venn2(\n",
    "    subsets=(cross_tab.iloc[1, 0], cross_tab.iloc[0, 1], cross_tab.iloc[1, 1]),\n",
    "    set_labels=(\"Empirical role\", \"Substantive role\"),\n",
    "    set_colors=(c2_, c1_),\n",
    "    alpha=0.75,\n",
    ")\n",
    "plt.savefig(\"manuscript/exhibits/event_roles_po_yes.pgf\", bbox_inches=\"tight\", pad_inches=0)\n",
    "del df_\n"
   ]
  },
  {
   "cell_type": "code",
   "execution_count": 52,
   "metadata": {},
   "outputs": [],
   "source": [
    "# get cross tab\n",
    "df_ = df.loc[df[\"control_group\"] == False]\n",
    "pd.crosstab(df_[\"role_empirical\"], df_[\"role_theory\"])\n",
    "# get cross tab\n",
    "cross_tab = pd.crosstab(df_[\"role_empirical\"], df_[\"role_theory\"])\n",
    "# create figure\n",
    "fig = plt.figure(figsize=(2, 2))\n",
    "ax = fig.add_subplot(1, 1, 1)\n",
    "venn2(\n",
    "    subsets=(cross_tab.iloc[1, 0], cross_tab.iloc[0, 1], cross_tab.iloc[1, 1]),\n",
    "    set_labels=(\"Empirical role\", \"Substantive role\"),\n",
    "    set_colors=(c3_, c4_),\n",
    "    alpha=0.75,\n",
    ")\n",
    "plt.savefig(\"manuscript/exhibits/event_roles_po_no.pgf\", bbox_inches=\"tight\", pad_inches=0)\n",
    "del df_\n"
   ]
  },
  {
   "cell_type": "code",
   "execution_count": 21,
   "metadata": {},
   "outputs": [],
   "source": [
    "# data\n",
    "# --+ event plays empirical role\n",
    "gr = df.loc[(df[\"role_empirical\"] == True) & (df[\"role_theory\"] == False)].groupby(\n",
    "    [\"control_group\"], as_index=False\n",
    ")\n",
    "c0 = pd.DataFrame(gr.size())\n",
    "# --+ event plays substantive role\n",
    "gr = df.loc[(df[\"role_empirical\"] == False) & (df[\"role_theory\"] == True)].groupby(\n",
    "    [\"control_group\"], as_index=False\n",
    ")\n",
    "c1 = pd.DataFrame(gr.size())\n",
    "# --+ event plays both roles\n",
    "gr = df.loc[(df[\"role_empirical\"] == True) & (df[\"role_theory\"] == True)].groupby(\n",
    "    [\"control_group\"], as_index=False\n",
    ")\n",
    "c2 = pd.DataFrame(gr.size())\n"
   ]
  },
  {
   "cell_type": "code",
   "execution_count": 28,
   "metadata": {},
   "outputs": [
    {
     "data": {
      "text/html": [
       "<div>\n",
       "<style scoped>\n",
       "    .dataframe tbody tr th:only-of-type {\n",
       "        vertical-align: middle;\n",
       "    }\n",
       "\n",
       "    .dataframe tbody tr th {\n",
       "        vertical-align: top;\n",
       "    }\n",
       "\n",
       "    .dataframe thead th {\n",
       "        text-align: right;\n",
       "    }\n",
       "</style>\n",
       "<table border=\"1\" class=\"dataframe\">\n",
       "  <thead>\n",
       "    <tr style=\"text-align: right;\">\n",
       "      <th></th>\n",
       "      <th>control_group</th>\n",
       "      <th>size</th>\n",
       "    </tr>\n",
       "  </thead>\n",
       "  <tbody>\n",
       "    <tr>\n",
       "      <th>0</th>\n",
       "      <td>False</td>\n",
       "      <td>3</td>\n",
       "    </tr>\n",
       "    <tr>\n",
       "      <th>1</th>\n",
       "      <td>True</td>\n",
       "      <td>7</td>\n",
       "    </tr>\n",
       "  </tbody>\n",
       "</table>\n",
       "</div>"
      ],
      "text/plain": [
       "   control_group  size\n",
       "0          False     3\n",
       "1           True     7"
      ]
     },
     "execution_count": 28,
     "metadata": {},
     "output_type": "execute_result"
    }
   ],
   "source": [
    "c2"
   ]
  },
  {
   "cell_type": "code",
   "execution_count": 25,
   "metadata": {},
   "outputs": [],
   "source": [
    "# create stacked bar chart\n",
    "fig = plt.figure(figsize=(2.5, 0.9))\n",
    "ax = fig.add_subplot(1, 1, 1)\n",
    "ax.barh(\n",
    "    c0.index,\n",
    "    c0[\"size\"],\n",
    "    height=0.25,\n",
    "    label=\"Empirical\",\n",
    "    color=\"gray\"\n",
    ")\n",
    "ax.barh(\n",
    "    c2.index,\n",
    "    c2[\"size\"],\n",
    "    left=c0[\"size\"],\n",
    "    height=0.25,\n",
    "    label=\"Empirical \\& substantive\",\n",
    "    color=\"gray\",\n",
    "    alpha=0.7\n",
    ")\n",
    "ax.barh(\n",
    "    c1.index,\n",
    "    c1[\"size\"],\n",
    "    height=0.25,\n",
    "    left=c0[\"size\"] + c2[\"size\"],\n",
    "    label=\"Substantive\",\n",
    "    color=\"gray\",\n",
    "    alpha=0.4\n",
    ")\n",
    "# labels and ticks\n",
    "ax.set_yticks([0, 1])\n",
    "ax.set_yticklabels([\"Design lacking a control group\", \"Design with a control group\"])\n",
    "ax.set_xlabel(\"Counts of studies\")\n",
    "# hide the right and top spines\n",
    "ax.spines[\"right\"].set_visible(False)\n",
    "ax.spines[\"top\"].set_visible(False)\n",
    "ax.spines[\"bottom\"].set_visible(True)\n",
    "ax.spines[\"left\"].set_visible(False)\n",
    "ax.yaxis.set_ticks_position(\"left\")\n",
    "ax.xaxis.set_ticks_position(\"bottom\")\n",
    "# legend\n",
    "ax.legend(loc=(1, 0), frameon=False)\n",
    "# tick labels' jsutification\n",
    "plt.setp(\n",
    "    ax.get_yticklabels(),\n",
    "    rotation=0,\n",
    "    ha=\"right\",\n",
    "    va=\"center\",\n",
    "    rotation_mode=\"anchor\",\n",
    ")\n",
    "# plot\n",
    "plt.savefig(\"manuscript/exhibits/potential_outcome.pgf\", bbox_inches=\"tight\", pad_inches=0)\n"
   ]
  },
  {
   "cell_type": "code",
   "execution_count": 49,
   "metadata": {},
   "outputs": [
    {
     "data": {
      "text/plain": [
       "role_description\n",
       "Empirical / attenuating endogeneity concerns                            13\n",
       "Empirical / attenuating endogeneity concerns (supplemental analysis)     3\n",
       "Theory testing                                                           9\n",
       "Theory testing & empirical / attenuating endogeneity concerns           10\n",
       "Theory testing & empirical / creating measures                           1\n",
       "dtype: int64"
      ]
     },
     "execution_count": 49,
     "metadata": {},
     "output_type": "execute_result"
    }
   ],
   "source": [
    "df.groupby(\"role_description\").size()"
   ]
  },
  {
   "cell_type": "code",
   "execution_count": 50,
   "metadata": {},
   "outputs": [
    {
     "data": {
      "text/plain": [
       "event_class\n",
       "Analyst coverage change     2\n",
       "Data breaches               1\n",
       "Investigation               1\n",
       "Legal change               12\n",
       "Pandemic                    2\n",
       "Political referendum        1\n",
       "Price variation             1\n",
       "Product discontinuation     1\n",
       "Recession                   1\n",
       "Scandal                     2\n",
       "Software piracy             1\n",
       "Terrorist attack            4\n",
       "Turnover                    7\n",
       "dtype: int64"
      ]
     },
     "execution_count": 50,
     "metadata": {},
     "output_type": "execute_result"
    }
   ],
   "source": [
    "df.groupby(\"event_class\").size()"
   ]
  },
  {
   "cell_type": "code",
   "execution_count": null,
   "metadata": {},
   "outputs": [],
   "source": []
  }
 ],
 "metadata": {
  "kernelspec": {
   "display_name": "tech_sci",
   "language": "python",
   "name": "python3"
  },
  "language_info": {
   "codemirror_mode": {
    "name": "ipython",
    "version": 3
   },
   "file_extension": ".py",
   "mimetype": "text/x-python",
   "name": "python",
   "nbconvert_exporter": "python",
   "pygments_lexer": "ipython3",
   "version": "3.10.8"
  },
  "orig_nbformat": 4,
  "vscode": {
   "interpreter": {
    "hash": "965c1d2f952cf24e893783e28585b53d286588e195c2c8c780193fe913c333f4"
   }
  }
 },
 "nbformat": 4,
 "nbformat_minor": 2
}
